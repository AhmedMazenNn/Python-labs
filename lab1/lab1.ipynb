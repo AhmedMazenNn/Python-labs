{
 "cells": [
  {
   "cell_type": "code",
   "execution_count": 5,
   "metadata": {},
   "outputs": [
    {
     "name": "stdout",
     "output_type": "stream",
     "text": [
      "Number of vowels in ahmed: 2\n"
     ]
    }
   ],
   "source": [
    "# 1. Write a program that counts up the number of\n",
    "# vowels [a, e, i, o, u] contained in the string.\n",
    "\n",
    "input_string = input(\"Enter a string: \").lower().strip()\n",
    "if input_string.strip() == \"\":\n",
    "    print(\"please enter a non-empty string.\")\n",
    "elif input_string.isnumeric():\n",
    "    print(\"please enter a string not a number.\")\n",
    "count = 0\n",
    "for char in input_string:\n",
    "    if char in ['a', 'e', 'i', 'o', 'u']:\n",
    "        count += 1\n",
    "\n",
    "print(f\"Number of vowels in {input_string}:\", count)\n"
   ]
  },
  {
   "cell_type": "code",
   "execution_count": 6,
   "metadata": {},
   "outputs": [
    {
     "name": "stdout",
     "output_type": "stream",
     "text": [
      "[1, 2, 3, 4, 5]\n"
     ]
    }
   ],
   "source": [
    "#2. Write a function that accepts two arguments (length,\n",
    "# start) to generate an array of a specific length filled\n",
    "# with integer numbers increased by one from start.\n",
    "\n",
    "length = input(\"Enter length: \")\n",
    "start = input(\"Enter start: \")\n",
    "\n",
    "if length.isnumeric() and start.isnumeric():\n",
    "    length = int(length)\n",
    "    start = int(start)\n",
    "else:\n",
    "    print(\"Please enter a number.\")\n",
    "\n",
    "if length < 0 or start < 0:\n",
    "    print(\"Please enter a positive number.\")\n",
    "\n",
    "def fun(length, start):\n",
    "    arr = []\n",
    "    for i in range(length):\n",
    "        arr.append(start)\n",
    "        start += 1\n",
    "    return arr\n",
    "\n",
    "print(fun(length, start))\n"
   ]
  },
  {
   "cell_type": "code",
   "execution_count": null,
   "metadata": {},
   "outputs": [
    {
     "name": "stdout",
     "output_type": "stream",
     "text": [
      "ascending:  [1, 3, 4, 6, 8]\n",
      "descending:  [8, 6, 4, 3, 1]\n"
     ]
    }
   ],
   "source": [
    "# 3. Fill an array of 5 elements from the user, Sort it in\n",
    "# descending and ascending orders then display the\n",
    "# output .\n",
    "\n",
    "arr = []\n",
    "for i in range(5):\n",
    "    arr.append(int(input(\"Enter a number: \")))\n",
    "arr.sort()\n",
    "print(\"ascending: \",arr)\n",
    "\n",
    "#sord sorted\n",
    "\n",
    "arr.sort(reverse=True)\n",
    "print(\"descending: \",arr)"
   ]
  },
  {
   "cell_type": "code",
   "execution_count": 1,
   "metadata": {},
   "outputs": [
    {
     "name": "stdout",
     "output_type": "stream",
     "text": [
      "Please enter a number.\n",
      "Please enter a number.\n",
      "Please enter a number.\n",
      "Please enter a number.\n",
      "Please enter a number.\n",
      "Please enter a number.\n",
      "Please enter a number.\n",
      "Fizz\n"
     ]
    }
   ],
   "source": [
    "# 4. Write a function that takes a number as an\n",
    "# argument and if the number divisible by 3 return\n",
    "# \"Fizz\" and if it is divisible by 5 return \"buzz\" and if is\n",
    "# is divisible by both return \"FizzBuzz\"\n",
    "\n",
    "while(True):\n",
    "    input_num = input(\"Enter a number: \")\n",
    "    if input_num.isnumeric():\n",
    "        input_num = int(input_num)\n",
    "        break\n",
    "    else:\n",
    "        print(\"Please enter a number.\")\n",
    "        \n",
    "def fun(input_num):\n",
    "    if input_num % 3 == 0 and input_num % 5 == 0:\n",
    "        return \"FizzBuzz\"\n",
    "    elif input_num % 3 == 0:\n",
    "        return \"Fizz\"\n",
    "    elif input_num % 5 == 0:\n",
    "        return \"Buzz\"\n",
    "    else:\n",
    "        return \"Not divisible by 3 or 5\"\n",
    "\n",
    "print(fun(input_num))\n"
   ]
  },
  {
   "cell_type": "code",
   "execution_count": 4,
   "metadata": {},
   "outputs": [
    {
     "name": "stdout",
     "output_type": "stream",
     "text": [
      "please enter a non-empty string.\n"
     ]
    }
   ],
   "source": [
    "# 5. Write a Python function that checks whether a\n",
    "# passed string is palindrome or not.Note: A\n",
    "# palindrome is a word, phrase, or sequence that\n",
    "# reads the same backward as forward, e.g., madam\n",
    "# or nurses run {ignoring the spaces }.\n",
    "\n",
    "def palindrome(string):\n",
    "    string = string.replace(\" \", \"\").lower()\n",
    "    return string == string[::-1]\n",
    "\n",
    "input_string = input(\"Enter a string: \")\n",
    "if input_string.strip() == \"\":\n",
    "    print(\"please enter a non-empty string.\")\n",
    "elif input_string.isnumeric():\n",
    "    print(\"please enter a string.\")\n",
    "else:\n",
    "    print(\"Is palindrome:\", palindrome(input_string))\n"
   ]
  },
  {
   "cell_type": "code",
   "execution_count": 4,
   "metadata": {},
   "outputs": [
    {
     "name": "stdout",
     "output_type": "stream",
     "text": [
      "Longest substring in alphabetical order for ahmed mazen is: ahm\n"
     ]
    }
   ],
   "source": [
    "# 6. Write a function that takes a string and prints the\n",
    "# longest alphabetical ordered substring occured. For\n",
    "# example, if the string is 'abdulrahman' then the\n",
    "# output is: Longest substring in alphabetical order is:\n",
    "# abdu\n",
    "input_string = input(\"Enter a string: \").lower()\n",
    "if input_string.strip() == \"\":\n",
    "    print(\"please enter a non-empty string.\")\n",
    "elif input_string.isnumeric():\n",
    "    print(\"please enter a string.\")\n",
    "else:\n",
    "    def longest_substring(input_string):\n",
    "        longest = \"\"\n",
    "        current = \"\"\n",
    "        for i in range(len(input_string) - 1):\n",
    "            if input_string[i] <= input_string[i + 1]:\n",
    "                current += input_string[i]\n",
    "            else:\n",
    "                current += input_string[i]\n",
    "                if len(current) > len(longest):\n",
    "                    longest = current\n",
    "                current = \"\"\n",
    "        return longest\n",
    "\n",
    "    print(f\"Longest substring in alphabetical order for {input_string} is:\", longest_substring(input_string))\n",
    "\n"
   ]
  }
 ],
 "metadata": {
  "kernelspec": {
   "display_name": ".venv",
   "language": "python",
   "name": "python3"
  },
  "language_info": {
   "codemirror_mode": {
    "name": "ipython",
    "version": 3
   },
   "file_extension": ".py",
   "mimetype": "text/x-python",
   "name": "python",
   "nbconvert_exporter": "python",
   "pygments_lexer": "ipython3",
   "version": "3.12.3"
  }
 },
 "nbformat": 4,
 "nbformat_minor": 2
}
